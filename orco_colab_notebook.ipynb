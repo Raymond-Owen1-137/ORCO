{
 "cells": [
  {
   "cell_type": "markdown",
   "id": "0cad9c61",
   "metadata": {},
   "source": [
    "#  ORCO: OpenSource Residue Classification Oracle\n",
    "Welcome to ORCO — a lightweight neural network that predicts amino acid residues from NMR Cα and Cβ chemical shifts."
   ]
  },
  {
   "cell_type": "code",
   "execution_count": null,
   "id": "a3a8a4d6",
   "metadata": {},
   "outputs": [],
   "source": [
    "#  Step 1: Upload the ORCO release package (ZIP)\n",
    "from google.colab import files\n",
    "files.upload()"
   ]
  },
  {
   "cell_type": "code",
   "execution_count": null,
   "id": "0044f1d6",
   "metadata": {},
   "outputs": [],
   "source": [
    "#  Step 2: Unzip the release\n",
    "!unzip version_1_release.zip -d orco\n",
    "%cd orco"
   ]
  },
  {
   "cell_type": "code",
   "execution_count": null,
   "id": "84c7bdc1",
   "metadata": {},
   "outputs": [],
   "source": [
    "#  Step 3: Upload the BMRB JSON file\n",
    "from google.colab import files\n",
    "files.upload()  # Upload bmrb_data_bank.json"
   ]
  },
  {
   "cell_type": "markdown",
   "id": "d9a5c839",
   "metadata": {},
   "source": [
    "##  Step 4: Generate dataset and FASTA from BMRB ID\n",
    "Example: BMRB 4769"
   ]
  },
  {
   "cell_type": "code",
   "execution_count": null,
   "id": "023937f3",
   "metadata": {},
   "outputs": [],
   "source": [
    "!python load_json.py 4769"
   ]
  },
  {
   "cell_type": "markdown",
   "id": "f3fce247",
   "metadata": {},
   "source": [
    "##  Step 5: Train the neural network on CA/CB shifts"
   ]
  },
  {
   "cell_type": "code",
   "execution_count": null,
   "id": "10372e16",
   "metadata": {},
   "outputs": [],
   "source": [
    "!python train.py"
   ]
  },
  {
   "cell_type": "markdown",
   "id": "6ba3e0ce",
   "metadata": {},
   "source": [
    "##  Step 6: Run Monte Carlo Dropout Inference"
   ]
  },
  {
   "cell_type": "code",
   "execution_count": null,
   "id": "0ce333e5",
   "metadata": {},
   "outputs": [],
   "source": [
    "!python mc_infer.py"
   ]
  },
  {
   "cell_type": "markdown",
   "id": "a025681b",
   "metadata": {},
   "source": [
    "## Step 7: Plot the predictions with uncertainty"
   ]
  },
  {
   "cell_type": "code",
   "execution_count": null,
   "id": "25eb43ce",
   "metadata": {},
   "outputs": [],
   "source": [
    "!python plot_mc_results.py"
   ]
  },
  {
   "cell_type": "markdown",
   "id": "4757adfb",
   "metadata": {},
   "source": [
    " All done! You should now see:\n",
    "- `bmrb_4769_labeled.csv`\n",
    "- `orco_model.pt`\n",
    "- `bmrb_4769_mc_results.csv`\n",
    "- `mc_results_plot.png`"
   ]
  },
  {
   "cell_type": "markdown",
   "id": "8d4d7ced",
   "metadata": {},
   "source": [
    "###  Project maintained by a physics undergrad exploring AI + NMR.\n",
    "[GitHub Repository Placeholder]\n",
    "\n",
    "For feedback or collaboration, reach out!"
   ]
  }
 ],
 "metadata": {
  "language_info": {
   "name": "python"
  }
 },
 "nbformat": 4,
 "nbformat_minor": 5
}
